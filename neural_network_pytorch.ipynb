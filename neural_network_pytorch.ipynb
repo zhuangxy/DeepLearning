{
 "cells": [
  {
   "cell_type": "markdown",
   "metadata": {},
   "source": [
    "# Implementation of a simple neural network using PyTorch\n",
    "\n",
    "This is an example of implementating a simple neural network using PyTorch, the network structure is as below:\n",
    "![jupyter](./images/network.png)"
   ]
  },
  {
   "cell_type": "code",
   "execution_count": 135,
   "metadata": {},
   "outputs": [],
   "source": [
    "import torch"
   ]
  },
  {
   "cell_type": "code",
   "execution_count": 136,
   "metadata": {},
   "outputs": [],
   "source": [
    "# define training data set x and y\n",
    "x = [[0.1,0.1, 0.1],\n",
    "     [0.9, 0.9, 0.9],\n",
    "     [0.2,0.1,0.1],\n",
    "     [0.9,0.97,0.89],\n",
    "     [0.1,0.2,0.1],\n",
    "     [0.8,0.9,0.9],\n",
    "     [0.3,0.1,0.4],\n",
    "     [0.9,0.8,0.7],\n",
    "     [0.11,0.22,0.15],\n",
    "     [0.88,0.9,0.9]\n",
    "   ]\n",
    "y = [[0], [1], [0], [1], [0], [1], [0], [1], [0], [1]]\n",
    "\n",
    "x = torch.tensor(x, dtype=torch.float)\n",
    "y = torch.tensor(y, dtype=torch.float)"
   ]
  },
  {
   "cell_type": "code",
   "execution_count": 137,
   "metadata": {},
   "outputs": [
    {
     "name": "stdout",
     "output_type": "stream",
     "text": [
      "Sequential(\n",
      "  (0): Linear(in_features=3, out_features=2, bias=True)\n",
      "  (1): Sigmoid()\n",
      "  (2): Linear(in_features=2, out_features=1, bias=True)\n",
      "  (3): Sigmoid()\n",
      ")\n"
     ]
    }
   ],
   "source": [
    "input_dim = 3\n",
    "hidden_dim = 2\n",
    "output_dim = 1\n",
    "model = torch.nn.Sequential(\n",
    "    torch.nn.Linear(input_dim, hidden_dim),\n",
    "    torch.nn.Sigmoid(),\n",
    "    torch.nn.Linear(hidden_dim, output_dim),\n",
    "    torch.nn.Sigmoid()\n",
    ")\n",
    "print(model)"
   ]
  },
  {
   "cell_type": "code",
   "execution_count": 138,
   "metadata": {},
   "outputs": [
    {
     "name": "stdout",
     "output_type": "stream",
     "text": [
      "0 0.8422020673751831\n",
      "10 0.7034887075424194\n",
      "20 0.6954593658447266\n",
      "30 0.6902620196342468\n",
      "40 0.684678316116333\n",
      "50 0.6779319047927856\n",
      "60 0.6693267226219177\n",
      "70 0.6582313179969788\n",
      "80 0.6441068649291992\n",
      "90 0.6265054941177368\n",
      "100 0.6050363779067993\n",
      "110 0.5793431401252747\n",
      "120 0.5491586923599243\n",
      "130 0.514468789100647\n",
      "140 0.47574228048324585\n",
      "150 0.434093713760376\n",
      "160 0.39121633768081665\n",
      "170 0.34904301166534424\n",
      "180 0.3092930316925049\n",
      "190 0.2731453478336334\n",
      "200 0.24115672707557678\n",
      "210 0.2133740931749344\n",
      "220 0.1895177662372589\n",
      "230 0.16914871335029602\n",
      "240 0.1517830789089203\n",
      "250 0.1369573473930359\n",
      "260 0.12425865232944489\n",
      "270 0.11333353817462921\n",
      "280 0.1038864254951477\n",
      "290 0.09567325562238693\n",
      "300 0.08849365264177322\n",
      "310 0.0821836069226265\n",
      "320 0.0766085833311081\n",
      "330 0.07165806740522385\n",
      "340 0.06724099814891815\n",
      "350 0.06328190863132477\n",
      "360 0.05971799045801163\n",
      "370 0.05649681016802788\n",
      "380 0.05357428267598152\n",
      "390 0.05091313645243645\n",
      "400 0.04848182201385498\n",
      "410 0.046253401786088943\n",
      "420 0.044204793870449066\n",
      "430 0.04231622815132141\n",
      "440 0.04057050868868828\n",
      "450 0.03895282745361328\n",
      "460 0.037450142204761505\n",
      "470 0.03605124354362488\n",
      "480 0.034746136516332626\n",
      "490 0.03352610394358635\n"
     ]
    }
   ],
   "source": [
    "loss_fn = torch.nn.BCELoss()\n",
    "learning_rate = 0.4\n",
    "optimizer = torch.optim.SGD(model.parameters(), lr=learning_rate)\n",
    "for t in range(500):\n",
    "    y_pred = model(x)\n",
    "    loss = loss_fn(y_pred, y)\n",
    "    if t % 10 == 0:\n",
    "        print(t, loss.item())\n",
    "    optimizer.zero_grad()\n",
    "    loss.backward()\n",
    "    optimizer.step()"
   ]
  },
  {
   "cell_type": "code",
   "execution_count": 139,
   "metadata": {},
   "outputs": [
    {
     "name": "stdout",
     "output_type": "stream",
     "text": [
      "tensor([0.9759], grad_fn=<SigmoidBackward>)\n"
     ]
    }
   ],
   "source": [
    "x1 = torch.tensor([0.9, 0.8, 0.92], dtype=torch.float)\n",
    "print(model(x1))"
   ]
  },
  {
   "cell_type": "code",
   "execution_count": 140,
   "metadata": {},
   "outputs": [
    {
     "name": "stdout",
     "output_type": "stream",
     "text": [
      "tensor([0.0374], grad_fn=<SigmoidBackward>)\n"
     ]
    }
   ],
   "source": [
    "x2 = torch.tensor([0.11, 0.2, 0.18], dtype=torch.float)\n",
    "print(model(x2))"
   ]
  },
  {
   "cell_type": "code",
   "execution_count": 141,
   "metadata": {},
   "outputs": [
    {
     "name": "stdout",
     "output_type": "stream",
     "text": [
      "tensor([0.8154], grad_fn=<SigmoidBackward>)\n"
     ]
    }
   ],
   "source": [
    "x3 = torch.tensor([0.9, 0.1, 0.92], dtype=torch.float)\n",
    "print(model(x3))"
   ]
  },
  {
   "cell_type": "code",
   "execution_count": null,
   "metadata": {},
   "outputs": [],
   "source": []
  }
 ],
 "metadata": {
  "kernelspec": {
   "display_name": "Python 3",
   "language": "python",
   "name": "python3"
  },
  "language_info": {
   "codemirror_mode": {
    "name": "ipython",
    "version": 3
   },
   "file_extension": ".py",
   "mimetype": "text/x-python",
   "name": "python",
   "nbconvert_exporter": "python",
   "pygments_lexer": "ipython3",
   "version": "3.7.4"
  }
 },
 "nbformat": 4,
 "nbformat_minor": 2
}
