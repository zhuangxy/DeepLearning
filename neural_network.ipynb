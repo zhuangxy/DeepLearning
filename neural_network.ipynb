{
 "cells": [
  {
   "cell_type": "markdown",
   "metadata": {},
   "source": [
    "# Manual Implementation of Neural Network\n",
    "\n",
    "This is an example of manual implementation of a simple neural network, the network structure is as below:"
   ]
  },
  {
   "cell_type": "markdown",
   "metadata": {},
   "source": [
    "![jupyter](./network.png)"
   ]
  },
  {
   "cell_type": "code",
   "execution_count": 1,
   "metadata": {},
   "outputs": [],
   "source": [
    "import math\n",
    "import numpy.random as rnd"
   ]
  },
  {
   "cell_type": "code",
   "execution_count": 2,
   "metadata": {},
   "outputs": [
    {
     "name": "stdout",
     "output_type": "stream",
     "text": [
      "[[0.14720829484960163, 0.14720829484960163, 0.14720829484960163], [0.6781089854722847, 0.6781089854722847, 0.6781089854722847]]\n",
      "[0.31659987196981376, 0.5387062821637125]\n",
      "[0.4590110440278494, 0.5483062242767238]\n"
     ]
    }
   ],
   "source": [
    "# initialize weights randomly\n",
    "w0 = [[rnd.rand()] * 3 for i in range(2)]\n",
    "w1 = [rnd.rand() for i in range(2)]\n",
    "h = [rnd.rand() for i in range(2)]\n",
    "print(w0)\n",
    "print(w1)\n",
    "print(h)"
   ]
  },
  {
   "cell_type": "markdown",
   "metadata": {},
   "source": [
    "## Define activation function: sigmoid"
   ]
  },
  {
   "cell_type": "code",
   "execution_count": 3,
   "metadata": {},
   "outputs": [
    {
     "name": "stdout",
     "output_type": "stream",
     "text": [
      "0.5\n",
      "0.5\n"
     ]
    }
   ],
   "source": [
    "from math import e\n",
    "# define sigmoid\n",
    "def sigmoid(x):\n",
    "    return 1/(1+math.pow(e, -1 * 2 * x))\n",
    "\n",
    "# define sigmoid derivative\n",
    "def d_sigmoid(x):\n",
    "    return sigmoid(2*x) * (1 - sigmoid(2*x)) * 2\n",
    "\n",
    "print(sigmoid(0))\n",
    "print(d_sigmoid(0))"
   ]
  },
  {
   "cell_type": "markdown",
   "metadata": {},
   "source": [
    "## Define a single neuron "
   ]
  },
  {
   "cell_type": "code",
   "execution_count": 4,
   "metadata": {},
   "outputs": [],
   "source": [
    "# define a single neuron\n",
    "def f(x, w, activate=True):\n",
    "    ret = 0\n",
    "    for i in range(len(x)):\n",
    "        ret += x[i] * w[i]\n",
    "    if activate:\n",
    "        return sigmoid(ret)\n",
    "    else:\n",
    "        return ret\n",
    "\n",
    "#print(f([1.0, 0.9, 0.8], w0[0]))"
   ]
  },
  {
   "cell_type": "markdown",
   "metadata": {},
   "source": [
    "## Define loss function: logloss"
   ]
  },
  {
   "cell_type": "code",
   "execution_count": 5,
   "metadata": {},
   "outputs": [
    {
     "name": "stdout",
     "output_type": "stream",
     "text": [
      "0.6931469805599654\n",
      "1.0101009080706154\n",
      "-1.0101009080706154\n"
     ]
    }
   ],
   "source": [
    "# define logloss\n",
    "epsilon = 0.0000001\n",
    "def logloss(label, prob):\n",
    "    return -1 * (label * math.log(prob + epsilon, e) + (1 - label) * math.log(1 - prob + epsilon, e))\n",
    "\n",
    "# define losloss derivative\n",
    "def d_logloss(label, prob):\n",
    "    return -1 * label / (prob+epsilon) + (1 - label)/(1 - prob + epsilon)\n",
    "\n",
    "print(logloss(1, 0.5))\n",
    "print(d_logloss(0, 0.01))\n",
    "print(d_logloss(1, 0.99))"
   ]
  },
  {
   "cell_type": "markdown",
   "metadata": {},
   "source": [
    "## Define the sample data\n",
    "If the value of xi in all dimentions > 0.5, y=1  \n",
    "If any of the xi <=0.5, y=0"
   ]
  },
  {
   "cell_type": "code",
   "execution_count": 6,
   "metadata": {},
   "outputs": [],
   "source": [
    "# define training data set x and y\n",
    "x = [[0.1,0.1, 0.1],\n",
    "     [0.9, 0.9, 0.9],\n",
    "     [0.2,0.1,0.1],\n",
    "     [0.9,0.97,0.89],\n",
    "     [0.1,0.2,0.1],\n",
    "     [0.8,0.9,0.9],\n",
    "     [0.3,0.1,0.4],\n",
    "     [0.9,0.8,0.7],\n",
    "     [0.11,0.22,0.15],\n",
    "     [0.88,0.9,0.9]\n",
    "   ]\n",
    "#y = [0, 1]\n",
    "y = [0, 1, 0, 1, 0, 1, 0, 1, 0, 1]"
   ]
  },
  {
   "cell_type": "markdown",
   "metadata": {},
   "source": [
    "## Train the neural network"
   ]
  },
  {
   "cell_type": "code",
   "execution_count": 12,
   "metadata": {},
   "outputs": [],
   "source": [
    "# define feed forward \n",
    "def feed_forward(x):\n",
    "    h[0] = f(x, w0[0])\n",
    "    h[1] = f(x, w0[1])\n",
    "    prob = f(h, w1)\n",
    "    return prob"
   ]
  },
  {
   "cell_type": "code",
   "execution_count": 8,
   "metadata": {},
   "outputs": [],
   "source": [
    "# define back propagation\n",
    "# w = w - lr * d_w\n",
    "def back_propagation(iteration, x, prob, label, LR):\n",
    "    \n",
    "    w00_tmp = [w0[0][i] for i in range(len(w0[0]))]\n",
    "    w01_tmp = [w0[1][i] for i in range(len(w0[1]))]\n",
    "    w1_tmp = [w1[i] for i in range(len(w1))]\n",
    "    # update w0[0]\n",
    "    for i in range(len(w0[0])):\n",
    "        w0[0][i] = w0[0][i] - LR * d_logloss(label, prob) * ( d_sigmoid(f(h, w1_tmp, False))*w1_tmp[0] ) * ( d_sigmoid(f(x, w00_tmp, False))*x[i] )\n",
    "        #print(\"1\", label, d_logloss(label, prob) * ( d_sigmoid(f(h, w1_tmp, False))*w1_tmp[0] ) * ( d_sigmoid(f(x, w00_tmp, False))*x[i] ))\n",
    "    \n",
    "    # update w0[1]\n",
    "    for i in range(len(w0[1])):\n",
    "        w0[1][i] = w0[1][i] - LR * d_logloss(label, prob) * ( d_sigmoid(f(h, w1_tmp, False))*w1_tmp[1] ) * ( d_sigmoid(f(x, w01_tmp, False))*x[i] )\n",
    "        #print(\"2\", label, d_logloss(label, prob) * ( d_sigmoid(f(h, w1_tmp, False))*w1_tmp[1] ) * ( d_sigmoid(f(x, w01_tmp, False))*x[i] ))\n",
    "\n",
    "    # update w[1]\n",
    "    for i in range(len(w1)):\n",
    "        w1[i] = w1[i] - LR * d_logloss(label, prob) * d_sigmoid(f(h, w1_tmp, False)) * h[i]\n",
    "        #print(\"3\", label, d_logloss(label, prob) * d_sigmoid(f(h, w1_tmp, False)) * h[i])"
   ]
  },
  {
   "cell_type": "code",
   "execution_count": 14,
   "metadata": {},
   "outputs": [
    {
     "name": "stdout",
     "output_type": "stream",
     "text": [
      "\n",
      "Epoch 0:\n",
      "w0: [[-0.48401953716789486, -0.6695132793754524, 0.3286719191832048], [0.38561469596713, 0.41292788243217593, 0.03332288273552692]]\n",
      "w1: [-7.249274960285876, 3.3274503014616292]\n",
      "loss: 0.06883330208380216\n",
      "\n",
      "Epoch 10:\n",
      "w0: [[-0.4869790145170979, -0.6681500296066486, 0.33032025029581075], [0.38758056630345844, 0.41125769768813625, 0.03304322446467877]]\n",
      "w1: [-7.314228341542067, 3.3568628639092153]\n",
      "loss: 0.06724954890365735\n",
      "\n",
      "Epoch 20:\n",
      "w0: [[-0.489724016750512, -0.6668816084629198, 0.3318399076616988], [0.3894240232622217, 0.4096686715913526, 0.0328056484012269]]\n",
      "w1: [-7.376171781467215, 3.384912009528108]\n",
      "loss: 0.06577319760357474\n",
      "\n",
      "Epoch 30:\n",
      "w0: [[-0.4922758076933255, -0.6656997986358532, 0.33324528344659227], [0.39115691452365364, 0.40815405769348473, 0.032605049952269136]]\n",
      "w1: [-7.4353744100900165, 3.4117190184218904]\n",
      "loss: 0.064392496510811\n",
      "\n",
      "Epoch 40:\n",
      "w0: [[-0.4946529501475716, -0.6645971404162493, 0.33454860217519217], [0.39278957602902165, 0.4067078055560713, 0.03243711368548335]]\n",
      "w1: [-7.492070651766487, 3.4373896737117877]\n",
      "loss: 0.06309743103731488\n",
      "\n",
      "Epoch 50:\n",
      "w0: [[-0.49687172024069415, -0.6635668841102738, 0.3357603307779436], [0.39433106811149876, 0.4053244858969521, 0.03229816193444902]]\n",
      "w1: [-7.546465961703749, 3.4620167960366492]\n",
      "loss: 0.06187940546082789\n",
      "\n",
      "Epoch 60:\n",
      "w0: [[-0.498946448186334, -0.6626029334376078, 0.3368894963894601], [0.39578936850852525, 0.4039992214088448, 0.03218503784818028]]\n",
      "w1: [-7.598741422422927, 3.4856822795399283]\n",
      "loss: 0.06073099337364947\n",
      "\n",
      "Epoch 70:\n",
      "w0: [[-0.500889800120291, -0.6616997865374162, 0.33794393563400005], [0.39717153117256654, 0.4027276241734823, 0.03209501392874403]]\n",
      "w1: [-7.649057461916159, 3.508458742749512]\n",
      "loss: 0.05964573991558671\n",
      "\n",
      "Epoch 80:\n",
      "w0: [[-0.5027130124778112, -0.6608524783042293, 0.3389304923367596], [0.3984838177573678, 0.40150573978000603, 0.0320257196913766]]\n",
      "w1: [-7.697556887680986, 3.530410878706403]\n",
      "loss: 0.05861800352874154\n",
      "\n",
      "Epoch 90:\n",
      "w0: [[-0.5044260879273872, -0.6600565260322392, 0.3398551759277916], [0.3997318071236907, 0.4003299978334419, 0.03197508385446843]]\n",
      "w1: [-7.744367382477063, 3.5515965678663015]\n",
      "loss: 0.0576428282087438\n"
     ]
    }
   ],
   "source": [
    "# start training\n",
    "EPOCH = 100\n",
    "for epo in range(EPOCH):\n",
    "    loss = 0\n",
    "    for i in range(len(x)):  # batch size=1\n",
    "        prob = feed_forward(x[i])\n",
    "        #print(prob, y[i])\n",
    "        back_propagation(i, x[i], prob, y[i], 0.4)\n",
    "        loss += logloss(y[i], prob)\n",
    "    \n",
    "    if (epo % 10 == 0):\n",
    "        print(\"\\nEpoch {}:\".format(epo))\n",
    "        print(\"w0: \" + str(w0))\n",
    "        print(\"w1: \" + str(w1))\n",
    "        print(\"loss:\", loss/len(x))\n",
    "        #print(feed_forward([0.1, 0.1, 0.1]))\n",
    "        #print(feed_forward([0.9, 0.9, 0.9]))\n"
   ]
  },
  {
   "cell_type": "markdown",
   "metadata": {},
   "source": [
    "## Let's do some predict :)"
   ]
  },
  {
   "cell_type": "code",
   "execution_count": 15,
   "metadata": {
    "scrolled": true
   },
   "outputs": [
    {
     "name": "stdout",
     "output_type": "stream",
     "text": [
      "0.9252002246134885\n",
      "0.0585646310912279\n"
     ]
    }
   ],
   "source": [
    "# predict \n",
    "print(feed_forward([0.9, 0.8, 0.92]))\n",
    "print(feed_forward([0.11, 0.2, 0.18]))"
   ]
  },
  {
   "cell_type": "code",
   "execution_count": 16,
   "metadata": {},
   "outputs": [
    {
     "name": "stdout",
     "output_type": "stream",
     "text": [
      "0.2363558316475044\n"
     ]
    }
   ],
   "source": [
    "print(feed_forward([0.9, 0.1, 0.92]))"
   ]
  },
  {
   "cell_type": "code",
   "execution_count": null,
   "metadata": {},
   "outputs": [],
   "source": []
  }
 ],
 "metadata": {
  "kernelspec": {
   "display_name": "Python 3",
   "language": "python",
   "name": "python3"
  },
  "language_info": {
   "codemirror_mode": {
    "name": "ipython",
    "version": 3
   },
   "file_extension": ".py",
   "mimetype": "text/x-python",
   "name": "python",
   "nbconvert_exporter": "python",
   "pygments_lexer": "ipython3",
   "version": "3.6.10"
  }
 },
 "nbformat": 4,
 "nbformat_minor": 1
}
